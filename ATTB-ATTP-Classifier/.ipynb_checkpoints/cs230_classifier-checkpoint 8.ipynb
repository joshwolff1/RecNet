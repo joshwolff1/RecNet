{
 "cells": [
  {
   "cell_type": "code",
   "execution_count": 17,
   "metadata": {
    "colab": {
     "base_uri": "https://localhost:8080/",
     "height": 946
    },
    "colab_type": "code",
    "executionInfo": {
     "elapsed": 1397,
     "status": "error",
     "timestamp": 1571631719569,
     "user": {
      "displayName": "Josh Wolff",
      "photoUrl": "https://lh3.googleusercontent.com/a-/AAuE7mBE4pikTRqVXi5rWqD4WPEwwXT47Sfoari0--GnFeg=s64",
      "userId": "15643205438540806758"
     },
     "user_tz": 420
    },
    "id": "b5nsm_F4eZex",
    "outputId": "217683e7-f5b5-49bb-caf5-bc2a6393a93d",
    "scrolled": true
   },
   "outputs": [
    {
     "name": "stderr",
     "output_type": "stream",
     "text": [
      "Using TensorFlow backend.\n"
     ]
    }
   ],
   "source": [
    "from __future__ import absolute_import, division, print_function, unicode_literals\n",
    "import pandas as pd\n",
    "\n",
    "# TensorFlow and tf.keras\n",
    "import tensorflow as tf\n",
    "from tensorflow.keras import regularizers\n",
    "import random\n",
    "from tensorflow import keras\n",
    "from tensorflow.keras.layers import Dropout\n",
    "\n",
    "# Helper libraries\n",
    "import numpy as np\n",
    "import matplotlib.pyplot as plt\n",
    "\n",
    "from keras.models import Sequential\n",
    "from keras.layers.normalization import BatchNormalization\n",
    "from keras.layers.convolutional import Conv2D\n",
    "from keras.layers.convolutional import MaxPooling2D\n",
    "from keras.layers.core import Activation\n",
    "from keras.layers.core import Flatten\n",
    "from keras.layers.core import Dropout\n",
    "from keras.layers.core import Dense\n",
    "from keras import backend as K\n",
    "\n",
    "# https://www.tensorflow.org/tutorials/keras/classification\n",
    "# print(tf.__version__)\n",
    "\n",
    "# from google.colab import drive\n",
    "# drive.mount('/gdrive')\n",
    "# %cd /gdrive/Shared\\ drives/CS230/datasets\n"
   ]
  },
  {
   "cell_type": "code",
   "execution_count": 2,
   "metadata": {
    "colab": {},
    "colab_type": "code",
    "id": "xYnMMd-qefwi",
    "scrolled": true
   },
   "outputs": [],
   "source": [
    "class_names = [\"attB\", \"attP\"]"
   ]
  },
  {
   "cell_type": "code",
   "execution_count": 4,
   "metadata": {
    "colab": {
     "base_uri": "https://localhost:8080/",
     "height": 998
    },
    "colab_type": "code",
    "executionInfo": {
     "elapsed": 270,
     "status": "error",
     "timestamp": 1571631704466,
     "user": {
      "displayName": "Josh Wolff",
      "photoUrl": "https://lh3.googleusercontent.com/a-/AAuE7mBE4pikTRqVXi5rWqD4WPEwwXT47Sfoari0--GnFeg=s64",
      "userId": "15643205438540806758"
     },
     "user_tz": 420
    },
    "id": "8K70f7dUlwgD",
    "outputId": "ee9b14aa-f6b0-4646-c034-3aa802aac27b",
    "scrolled": true
   },
   "outputs": [
    {
     "name": "stdout",
     "output_type": "stream",
     "text": [
      "20301\n",
      "20301\n",
      "40602\n",
      "(40602, 1)\n",
      "(40602, 160, 4)\n",
      "(40602, 160, 4)\n",
      "(11404, 160, 4)\n"
     ]
    }
   ],
   "source": [
    "char2index = {'A':[1, 0, 0, 0], 'C':[0, 1, 0, 0], 'G':[0, 0, 1, 0], 'T':[0, 0, 0, 1]}\n",
    "# index2char = {1:'A', 2:'C', 3:'G', 4:'T'}\n",
    "def load_data(path):\n",
    "  df = pd.read_csv(path, sep='\\t')\n",
    "  X = [[char2index[char] for char in seq] for seq in df.attb]\n",
    "  Y = [[char2index[char] for char in seq] for seq in df.attp]\n",
    "  return X, Y\n",
    "\n",
    "train_attb, train_attp = load_data('set1/attB2attP/train.tsv')\n",
    "dev_attb, dev_attp = load_data('set1/attB2attP/dev.tsv')\n",
    "test_attb, test_attp = load_data('set1/attB2attP/test.tsv')\n",
    "\n",
    "def pad_zeros(data, max_pad=160):\n",
    "  padded_data = []\n",
    "  for row in data:\n",
    "    if max_pad - len(row) > 0:\n",
    "        row = row + [[0, 0, 0, 0]]*(max_pad - len(row))\n",
    "    padded_data.append(row)\n",
    "  return np.array(padded_data)\n",
    "\n",
    "\n",
    "def get_y(attb, attp):\n",
    "    y_to_return = np.array(len(attb) * [0] + len(attp) * [1])\n",
    "    return y_to_return.reshape(y_to_return.shape[0], 1)\n",
    "\n",
    "print(len(train_attb))\n",
    "print(len(train_attp))\n",
    "print(len(train_attb + train_attp))\n",
    "train_x = train_attb + train_attp\n",
    "dev_x = dev_attb + dev_attp\n",
    "test_x = test_attb + test_attp\n",
    "\n",
    "\n",
    "train_x, train_y = pad_zeros(train_x), get_y(train_attb, train_attp)\n",
    "dev_x, dev_y = pad_zeros(dev_x), get_y(dev_attb, dev_attp)\n",
    "test_x, test_y = pad_zeros(test_x), get_y(test_attb, test_attp)\n",
    "\n",
    "train_x = pad_zeros(train_x)\n",
    "dev_x = pad_zeros(dev_x)\n",
    "test_x = pad_zeros(test_x)\n",
    "\n",
    "print(train_y.shape)\n",
    "print(train_x.shape)\n",
    "print(train_x.shape)\n",
    "print(test_x.shape)"
   ]
  },
  {
   "cell_type": "code",
   "execution_count": 15,
   "metadata": {
    "colab": {},
    "colab_type": "code",
    "id": "JKIpFEKOe2Nr",
    "scrolled": true
   },
   "outputs": [],
   "source": [
    "def get_model(l1_val=None, middle_layer_val=128, middle_layer_activation=\"relu\", set_to_cnn=False):\n",
    "    model_to_return = keras.Sequential([\n",
    "            keras.layers.Flatten(input_shape=(160, 4))\n",
    "        ])\n",
    "    \n",
    "    if set_to_cnn:\n",
    "        model_to_return.add(Conv2D(64, kernel_size=3, activation='relu', input_shape=(160,4,1)))\n",
    "        model_to_return.add(Conv2D(32, kernel_size=3, activation=’relu’))\n",
    "        model_to_return.add(Flatten())\n",
    "        model_to_return.add(Dense(10, activation=’softmax’))\n",
    "    else:\n",
    "        if l1_val is not None:\n",
    "            # Can also do: kernel_regularizer=regularizers.l2(0.01)\n",
    "            # Kernel regularizer does weight decay. If we are going to try this, we must shuffle the attb and attp ordering\n",
    "            # because right now the attbs come first, then the attps.\n",
    "            # https://stackoverflow.com/questions/44495698/keras-difference-between-kernel-and-activity-regularizers\n",
    "            model_to_return.add(keras.layers.Dense(middle_layer_val, input_dim=160,\n",
    "                                                   activation=middle_layer_activation,\n",
    "                                                   activity_regularizer=regularizers.l1(l1_val)))\n",
    "        else:\n",
    "            model_to_return.add(keras.layers.Dense(middle_layer_val, activation=middle_layer_activation))\n",
    "            # model_to_return.add(Dropout(0.9999999999999))\n",
    "\n",
    "        model_to_return.add(keras.layers.Dense(2, activation='softmax'))\n",
    "    return model_to_return\n",
    "\n",
    "def fit_model(model, train_x_arr, train_y_arr, verbose=2):\n",
    "    model.compile(optimizer='adam',\n",
    "                  loss='sparse_categorical_crossentropy',\n",
    "                  metrics=['accuracy'])\n",
    "    model.fit(train_x_arr, train_y_arr, epochs=5, shuffle=True, verbose=verbose)\n",
    "\n",
    "def eval_model(model, test_x_arr, test_y_arr):\n",
    "    return model.evaluate(test_x_arr,  test_y_arr, verbose=0)"
   ]
  },
  {
   "cell_type": "code",
   "execution_count": 16,
   "metadata": {
    "colab": {},
    "colab_type": "code",
    "id": "m8FoHZ9MfEry",
    "scrolled": false
   },
   "outputs": [
    {
     "name": "stdout",
     "output_type": "stream",
     "text": [
      "Train on 40602 samples\n",
      "Epoch 1/5\n",
      "40602/40602 - 2s - loss: 0.4997 - accuracy: 0.7507\n",
      "Epoch 2/5\n",
      "40602/40602 - 2s - loss: 0.3286 - accuracy: 0.8537\n",
      "Epoch 3/5\n",
      "40602/40602 - 2s - loss: 0.2203 - accuracy: 0.9108\n",
      "Epoch 4/5\n",
      "40602/40602 - 2s - loss: 0.1450 - accuracy: 0.9451\n",
      "Epoch 5/5\n",
      "40602/40602 - 2s - loss: 0.0917 - accuracy: 0.9697\n",
      "Test accuracy: 0.8439091\n"
     ]
    }
   ],
   "source": [
    "model = get_model()\n",
    "fit_model(model, train_x, train_y)\n",
    "dev_loss, dev_acc = eval_model(model, dev_x, dev_y)\n",
    "print('Test accuracy:', dev_acc)"
   ]
  },
  {
   "cell_type": "code",
   "execution_count": null,
   "metadata": {
    "colab": {},
    "colab_type": "code",
    "id": "K45VoIYifHLB",
    "scrolled": true
   },
   "outputs": [],
   "source": [
    "predictions = model.predict(test_x)"
   ]
  },
  {
   "cell_type": "code",
   "execution_count": null,
   "metadata": {
    "colab": {},
    "colab_type": "code",
    "id": "5SsYi7tIfHgV",
    "scrolled": true
   },
   "outputs": [],
   "source": [
    "def plot_image(i, predictions_array, true_label, img):\n",
    "    predictions_array, true_label, img = predictions_array, true_label[i], img[i]\n",
    "    plt.grid(False)\n",
    "    plt.xticks([])\n",
    "    plt.yticks([])\n",
    "\n",
    "    plt.imshow(img, cmap=plt.cm.binary)\n",
    "\n",
    "    predicted_label = np.argmax(predictions_array)\n",
    "    if predicted_label == true_label:\n",
    "        color = 'blue'\n",
    "    else:\n",
    "        color = 'red'\n",
    "    print(true_label)\n",
    "    plt.xlabel(\"{} {:2.0f}% ({})\".format(class_names[predicted_label],\n",
    "                                100*np.max(predictions_array),\n",
    "                                class_names[true_label[0]]),\n",
    "                                color=color)\n",
    "\n",
    "i = 0\n",
    "plt.figure(figsize=(6,3))\n",
    "plt.subplot(1,2,1)\n",
    "plot_image(i, predictions[i], test_y, test_x)\n",
    "plt.show()\n",
    "print(predictions.shape)"
   ]
  },
  {
   "cell_type": "code",
   "execution_count": null,
   "metadata": {
    "colab": {},
    "colab_type": "code",
    "id": "PYPxhP3ifO3U",
    "scrolled": true
   },
   "outputs": [],
   "source": [
    "plt.figure()\n",
    "plt.imshow(train_x[0])\n",
    "plt.grid(False)\n",
    "plt.show()"
   ]
  },
  {
   "cell_type": "code",
   "execution_count": null,
   "metadata": {},
   "outputs": [],
   "source": [
    "plt.figure(figsize=(45,45))\n",
    "range_to_show = 20\n",
    "for i in range(range_to_show):\n",
    "    plt.subplot(4, 5, i+1)\n",
    "    plt.xticks([])\n",
    "    plt.yticks([])\n",
    "    plt.grid(False)\n",
    "    item_to_get = len(train_x) - i if int(i / 5) % 2 == 1 else i\n",
    "    plt.imshow(train_x[item_to_get])\n",
    "    plt.xlabel(class_names[train_y[item_to_get][0]])\n",
    "plt.show()\n"
   ]
  },
  {
   "cell_type": "markdown",
   "metadata": {},
   "source": [
    "## Regularization and Data Augmentation\n",
    "\n",
    "We now have a training accuracy of 99.3% and a test accuracy of 85.6%. We see that we have high variance and perhaps are overfitting our training set."
   ]
  },
  {
   "cell_type": "code",
   "execution_count": null,
   "metadata": {},
   "outputs": [],
   "source": [
    "def get_hyperparameters(simple=False):\n",
    "    activations = [\"relu\", \"sigmoid\"]\n",
    "    layer_vals = [8, 32, 64, 128]\n",
    "    l1_vals = np.random.exponential(scale=0.015, size=(5,)).reshape(5, 1)\n",
    "    hyperparameters_to_return = []\n",
    "    print(l1_vals)\n",
    "    if simple:\n",
    "        return [{\n",
    "                    'activation': activations[0], \n",
    "                    'layer_val': 128,\n",
    "                    'l1': 0.05\n",
    "                },\n",
    "                {\n",
    "                    'activation': activations[1], \n",
    "                    'layer_val': 128,\n",
    "                    'l1': 0.05\n",
    "                }]\n",
    "\n",
    "    for act in activations:\n",
    "        for layer_val in layer_vals:\n",
    "            for l_val in l1_vals:\n",
    "                hyperparameters_to_return.append({\n",
    "                    'activation': act, \n",
    "                    'layer_val': layer_val,\n",
    "                    'l1': l_val\n",
    "                })\n",
    "    return hyperparameters_to_return"
   ]
  },
  {
   "cell_type": "code",
   "execution_count": null,
   "metadata": {},
   "outputs": [],
   "source": [
    "dev_accuracies = []\n",
    "hyperparameters = get_hyperparameters(simple=False)\n",
    "print(hyperparameters)\n",
    "print(\"We are testing \" + str(len(hyperparameters)) + \".\")\n",
    "for param in hyperparameters:\n",
    "    print(param)\n",
    "for hyper_params in hyperparameters:\n",
    "    model_extended = get_model(l1_val=hyper_params['l1'],\n",
    "                               middle_layer_val=hyper_params['layer_val'], \n",
    "                               middle_layer_activation=hyper_params['activation'])\n",
    "    fit_model(model_extended, \n",
    "              train_x, \n",
    "              train_y,\n",
    "              verbose=0)\n",
    "    dev_loss, dev_acc = eval_model(model_extended, dev_x, dev_y)\n",
    "    dev_accuracies.append(dev_acc)\n",
    "    print(dev_accuracies)\n",
    "    print(hyper_params)\n",
    "    print('\\dev accuracy:', dev_acc)\n",
    "\n",
    "dev_accuracies = np.array(dev_accuracies)\n",
    "print(dev_accuracies)\n",
    "print(max(dev_accuracies))\n",
    "index_of_hyper_to_get = dev_accuracies.argmax(axis=0)\n",
    "print(hyperparameters[index_of_hyper_to_get])"
   ]
  },
  {
   "cell_type": "markdown",
   "metadata": {},
   "source": [
    "## CNN"
   ]
  },
  {
   "cell_type": "code",
   "execution_count": null,
   "metadata": {},
   "outputs": [],
   "source": []
  },
  {
   "cell_type": "code",
   "execution_count": null,
   "metadata": {},
   "outputs": [],
   "source": []
  },
  {
   "cell_type": "code",
   "execution_count": null,
   "metadata": {},
   "outputs": [],
   "source": []
  }
 ],
 "metadata": {
  "accelerator": "TPU",
  "colab": {
   "collapsed_sections": [],
   "name": "cs230_classifier.ipynb",
   "provenance": []
  },
  "kernelspec": {
   "display_name": "Python 3",
   "language": "python",
   "name": "python3"
  },
  "language_info": {
   "codemirror_mode": {
    "name": "ipython",
    "version": 3
   },
   "file_extension": ".py",
   "mimetype": "text/x-python",
   "name": "python",
   "nbconvert_exporter": "python",
   "pygments_lexer": "ipython3",
   "version": "3.6.8"
  }
 },
 "nbformat": 4,
 "nbformat_minor": 1
}
