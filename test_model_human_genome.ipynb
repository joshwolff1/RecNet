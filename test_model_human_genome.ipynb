{
  "nbformat": 4,
  "nbformat_minor": 0,
  "metadata": {
    "colab": {
      "name": "test_model_human_genome.ipynb",
      "provenance": [],
      "collapsed_sections": []
    },
    "kernelspec": {
      "name": "python3",
      "display_name": "Python 3"
    },
    "accelerator": "TPU"
  },
  "cells": [
    {
      "cell_type": "markdown",
      "metadata": {
        "id": "APV8YcCatFe2",
        "colab_type": "text"
      },
      "source": [
        "# Testing Model on Human Genome Sequences\n",
        "\n",
        "This is the code used to apply the model tha twe trained to human genome sequences, in an effort to identify sequences that are good candidate attachment sites.\n",
        "\n",
        "Code written by: Matt Durrant"
      ]
    },
    {
      "cell_type": "code",
      "metadata": {
        "id": "bK5wr-nHXf17",
        "colab_type": "code",
        "outputId": "5aed1c19-0f60-4963-ef99-2d0b3d83cd1e",
        "colab": {
          "base_uri": "https://localhost:8080/",
          "height": 69
        }
      },
      "source": [
        "from __future__ import absolute_import, division, print_function, unicode_literals\n",
        "import pandas as pd\n",
        "from random import shuffle\n",
        "from os.path import isfile\n",
        "from Bio import SeqIO\n",
        "\n",
        "# TensorFlow and tf.keras\n",
        "import tensorflow as tf\n",
        "import random\n",
        "from tensorflow import keras\n",
        "from keras.utils import to_categorical\n",
        "\n",
        "# Helper libraries\n",
        "import numpy as np\n",
        "import matplotlib.pyplot as plt\n",
        "\n",
        "# https://www.tensorflow.org/tutorials/keras/classification\n",
        "print(tf.__version__)\n",
        "\n",
        "from google.colab import drive\n",
        "drive.mount('/gdrive')\n",
        "%cd /gdrive/Shared\\ drives/CS230/datasets\n",
        "import matplotlib.pyplot as plt\n",
        "\n",
        "random.seed(42)"
      ],
      "execution_count": 2,
      "outputs": [
        {
          "output_type": "stream",
          "text": [
            "1.15.0\n",
            "Drive already mounted at /gdrive; to attempt to forcibly remount, call drive.mount(\"/gdrive\", force_remount=True).\n",
            "/gdrive/Shared drives/CS230/datasets\n"
          ],
          "name": "stdout"
        }
      ]
    },
    {
      "cell_type": "code",
      "metadata": {
        "id": "_0g6omCDZjS3",
        "colab_type": "code",
        "colab": {
          "base_uri": "https://localhost:8080/",
          "height": 659
        },
        "outputId": "1de7f5c2-1fa8-40f4-9d3e-6e249c8191aa"
      },
      "source": [
        "from keras.models import load_model\n",
        "\n",
        "# Loads the model\n",
        "model = load_model('triple.h5')"
      ],
      "execution_count": 3,
      "outputs": [
        {
          "output_type": "stream",
          "text": [
            "WARNING:tensorflow:From /usr/local/lib/python3.6/dist-packages/keras/backend/tensorflow_backend.py:541: The name tf.placeholder is deprecated. Please use tf.compat.v1.placeholder instead.\n",
            "\n",
            "WARNING:tensorflow:From /usr/local/lib/python3.6/dist-packages/keras/backend/tensorflow_backend.py:4432: The name tf.random_uniform is deprecated. Please use tf.random.uniform instead.\n",
            "\n",
            "WARNING:tensorflow:From /usr/local/lib/python3.6/dist-packages/keras/backend/tensorflow_backend.py:4267: The name tf.nn.max_pool is deprecated. Please use tf.nn.max_pool2d instead.\n",
            "\n",
            "WARNING:tensorflow:From /usr/local/lib/python3.6/dist-packages/keras/backend/tensorflow_backend.py:66: The name tf.get_default_graph is deprecated. Please use tf.compat.v1.get_default_graph instead.\n",
            "\n",
            "WARNING:tensorflow:From /usr/local/lib/python3.6/dist-packages/keras/backend/tensorflow_backend.py:148: The name tf.placeholder_with_default is deprecated. Please use tf.compat.v1.placeholder_with_default instead.\n",
            "\n",
            "WARNING:tensorflow:From /usr/local/lib/python3.6/dist-packages/keras/backend/tensorflow_backend.py:3733: calling dropout (from tensorflow.python.ops.nn_ops) with keep_prob is deprecated and will be removed in a future version.\n",
            "Instructions for updating:\n",
            "Please use `rate` instead of `keep_prob`. Rate should be set to `rate = 1 - keep_prob`.\n",
            "WARNING:tensorflow:From /usr/local/lib/python3.6/dist-packages/keras/backend/tensorflow_backend.py:190: The name tf.get_default_session is deprecated. Please use tf.compat.v1.get_default_session instead.\n",
            "\n",
            "WARNING:tensorflow:From /usr/local/lib/python3.6/dist-packages/keras/backend/tensorflow_backend.py:197: The name tf.ConfigProto is deprecated. Please use tf.compat.v1.ConfigProto instead.\n",
            "\n",
            "WARNING:tensorflow:From /usr/local/lib/python3.6/dist-packages/keras/backend/tensorflow_backend.py:203: The name tf.Session is deprecated. Please use tf.compat.v1.Session instead.\n",
            "\n",
            "WARNING:tensorflow:From /usr/local/lib/python3.6/dist-packages/keras/backend/tensorflow_backend.py:207: The name tf.global_variables is deprecated. Please use tf.compat.v1.global_variables instead.\n",
            "\n",
            "WARNING:tensorflow:From /usr/local/lib/python3.6/dist-packages/keras/backend/tensorflow_backend.py:216: The name tf.is_variable_initialized is deprecated. Please use tf.compat.v1.is_variable_initialized instead.\n",
            "\n",
            "WARNING:tensorflow:From /usr/local/lib/python3.6/dist-packages/keras/backend/tensorflow_backend.py:223: The name tf.variables_initializer is deprecated. Please use tf.compat.v1.variables_initializer instead.\n",
            "\n",
            "WARNING:tensorflow:From /usr/local/lib/python3.6/dist-packages/keras/optimizers.py:793: The name tf.train.Optimizer is deprecated. Please use tf.compat.v1.train.Optimizer instead.\n",
            "\n",
            "WARNING:tensorflow:From /usr/local/lib/python3.6/dist-packages/keras/backend/tensorflow_backend.py:3622: The name tf.log is deprecated. Please use tf.math.log instead.\n",
            "\n",
            "WARNING:tensorflow:From /usr/local/lib/python3.6/dist-packages/tensorflow_core/python/ops/math_grad.py:1424: where (from tensorflow.python.ops.array_ops) is deprecated and will be removed in a future version.\n",
            "Instructions for updating:\n",
            "Use tf.where in 2.0, which has the same broadcast rule as np.where\n",
            "WARNING:tensorflow:From /usr/local/lib/python3.6/dist-packages/keras/backend/tensorflow_backend.py:1033: The name tf.assign_add is deprecated. Please use tf.compat.v1.assign_add instead.\n",
            "\n",
            "WARNING:tensorflow:From /usr/local/lib/python3.6/dist-packages/keras/backend/tensorflow_backend.py:1020: The name tf.assign is deprecated. Please use tf.compat.v1.assign instead.\n",
            "\n"
          ],
          "name": "stdout"
        }
      ]
    },
    {
      "cell_type": "code",
      "metadata": {
        "id": "rOkxQpoUcUPw",
        "colab_type": "code",
        "outputId": "d1e73061-2159-45a1-98cc-b87659e8e2d8",
        "colab": {
          "base_uri": "https://localhost:8080/",
          "height": 535
        }
      },
      "source": [
        "model.summary()"
      ],
      "execution_count": 0,
      "outputs": [
        {
          "output_type": "stream",
          "text": [
            "Model: \"sequential_16\"\n",
            "_________________________________________________________________\n",
            "Layer (type)                 Output Shape              Param #   \n",
            "=================================================================\n",
            "conv2d_61 (Conv2D)           (None, 160, 4, 64)        640       \n",
            "_________________________________________________________________\n",
            "conv2d_62 (Conv2D)           (None, 160, 4, 32)        18464     \n",
            "_________________________________________________________________\n",
            "max_pooling2d_31 (MaxPooling (None, 80, 2, 32)         0         \n",
            "_________________________________________________________________\n",
            "conv2d_63 (Conv2D)           (None, 80, 2, 64)         18496     \n",
            "_________________________________________________________________\n",
            "conv2d_64 (Conv2D)           (None, 80, 2, 64)         36928     \n",
            "_________________________________________________________________\n",
            "max_pooling2d_32 (MaxPooling (None, 40, 1, 64)         0         \n",
            "_________________________________________________________________\n",
            "dropout_31 (Dropout)         (None, 40, 1, 64)         0         \n",
            "_________________________________________________________________\n",
            "flatten_16 (Flatten)         (None, 2560)              0         \n",
            "_________________________________________________________________\n",
            "dense_31 (Dense)             (None, 512)               1311232   \n",
            "_________________________________________________________________\n",
            "dropout_32 (Dropout)         (None, 512)               0         \n",
            "_________________________________________________________________\n",
            "dense_32 (Dense)             (None, 3)                 1539      \n",
            "=================================================================\n",
            "Total params: 1,387,299\n",
            "Trainable params: 1,387,299\n",
            "Non-trainable params: 0\n",
            "_________________________________________________________________\n"
          ],
          "name": "stdout"
        }
      ]
    },
    {
      "cell_type": "code",
      "metadata": {
        "id": "uGewUedXeTNG",
        "colab_type": "code",
        "colab": {}
      },
      "source": [
        "# Functions to generate one-hot encodings for DNA sequences.\n",
        "\n",
        "def seq_to_one_hot_fill_in_array(zeros_array, sequence, one_hot_axis):\n",
        "    assert one_hot_axis==0 or one_hot_axis==1\n",
        "    if (one_hot_axis==0):\n",
        "        assert zeros_array.shape[1] == len(sequence)\n",
        "    elif (one_hot_axis==1): \n",
        "        assert zeros_array.shape[0] == len(sequence)\n",
        "    #will mutate zeros_array\n",
        "    for (i,char) in enumerate(sequence):\n",
        "        if char.upper()==\"A\":\n",
        "            char_idx = 0\n",
        "        elif char.upper()==\"C\":\n",
        "            char_idx = 1\n",
        "        elif char.upper()==\"G\":\n",
        "            char_idx = 2\n",
        "        elif char.upper()==\"T\":\n",
        "            char_idx = 3\n",
        "        elif char.upper()==\"N\":\n",
        "            continue #leave that pos as all 0's\n",
        "        else:\n",
        "            raise RuntimeError(\"Unsupported character: \"+str(char))\n",
        "        if (one_hot_axis==0):\n",
        "            zeros_array[char_idx,i] = 1\n",
        "        elif (one_hot_axis==1):\n",
        "            zeros_array[i,char_idx] = 1\n",
        "            \n",
        "def one_hot_encode_along_channel_axis(sequence):\n",
        "    sequence = ''.join(sequence)\n",
        "    to_return = np.zeros((160,4), dtype=np.int8)\n",
        "    padlength = 160 - len(sequence)\n",
        "    padded = sequence + \"N\"*padlength\n",
        "    seq_to_one_hot_fill_in_array(zeros_array=to_return,\n",
        "                                 sequence=padded, one_hot_axis=1)\n",
        "    return to_return\n",
        "\n",
        "def one_hot_encode_y(y, dim):\n",
        "  outy = np.zeros((1, dim))\n",
        "  outy[0,y] = 1\n",
        "  return(list(outy))"
      ],
      "execution_count": 0,
      "outputs": []
    },
    {
      "cell_type": "code",
      "metadata": {
        "id": "9EKntR15RoBt",
        "colab_type": "code",
        "colab": {}
      },
      "source": [
        "# Load human genome\n",
        "fasta = {rec.id: rec for rec in SeqIO.parse('GRCh38_latest_genomic.fna', 'fasta')}"
      ],
      "execution_count": 0,
      "outputs": []
    },
    {
      "cell_type": "code",
      "metadata": {
        "id": "LhbB5wHORwBs",
        "colab_type": "code",
        "colab": {}
      },
      "source": [
        "# Gets all 1 megabase regions from human genome.\n",
        "def get_all_regions(fasta, regionlength=1000000):\n",
        "  regions = []\n",
        "  for rec in fasta:\n",
        "    seq = str(fasta[rec].seq)\n",
        "    for i in range(0, len(seq), regionlength):\n",
        "      end = i + regionlength\n",
        "      if end > len(seq):\n",
        "        end = len(seq)\n",
        "      regions.append((rec, i, end))\n",
        "  return regions\n",
        "  "
      ],
      "execution_count": 0,
      "outputs": []
    },
    {
      "cell_type": "code",
      "metadata": {
        "id": "b4kEbgiVS0jx",
        "colab_type": "code",
        "outputId": "91562cfc-81d5-415e-a4d1-8647aefa958e",
        "colab": {
          "base_uri": "https://localhost:8080/",
          "height": 72
        }
      },
      "source": [
        "# Gets regions and randomly shuffles them.\n",
        "regions = get_all_regions(fasta)\n",
        "shuffle(regions)\n",
        "print(regions[:10])\n",
        "print(len(regions))"
      ],
      "execution_count": 15,
      "outputs": [
        {
          "output_type": "stream",
          "text": [
            "[('NC_000003.12', 156000000, 157000000), ('NC_000001.11', 73000000, 74000000), ('NC_000010.11', 17000000, 18000000), ('NC_000002.12', 99000000, 100000000), ('NC_000011.10', 117000000, 118000000), ('NC_000018.10', 80000000, 80373285), ('NC_000004.12', 30000000, 31000000), ('NC_000022.11', 31000000, 32000000), ('NC_000022.11', 44000000, 45000000), ('NC_000003.12', 27000000, 28000000)]\n",
            "3786\n"
          ],
          "name": "stdout"
        }
      ]
    },
    {
      "cell_type": "code",
      "metadata": {
        "id": "KkgVa4wwTpQ9",
        "colab_type": "code",
        "colab": {}
      },
      "source": [
        "# Function to loop through a 1 megabase genomic region, extract sequences,\n",
        "# make one-hot encodings, and apply model to make predictions.\n",
        "def get_signif_attsites(fasta, recname, start, end, seqlen=106):\n",
        "  print(recname, start, end)\n",
        "  seqbatch = []\n",
        "  rec = fasta[recname]\n",
        "  for i in range(start, end, 10):\n",
        "    \n",
        "    if i + seqlen > len(rec.seq):\n",
        "      break\n",
        "\n",
        "    seq = str(rec.seq[i:i+seqlen]).upper()\n",
        "    if seq.count(\"A\") + seq.count(\"C\") + seq.count(\"G\")+seq.count(\"T\") != len(seq):\n",
        "      continue\n",
        "    \n",
        "    seqbatch.append((rec.id, i, seq))\n",
        "    \n",
        "  onehot = np.array([one_hot_encode_along_channel_axis(seq[-1]).reshape(160, 4, 1) for seq in seqbatch])\n",
        "  if onehot.shape[0] == 0:\n",
        "    return None\n",
        "  predictions = model.predict(onehot)\n",
        "  outlist = []\n",
        "  for row, res in enumerate(seqbatch):\n",
        "    name, pos, seq = res\n",
        "    out = (name, pos, predictions[row, 0], predictions[row, 1], predictions[row, 2])\n",
        "    outlist.append(out)\n",
        "  outdf = pd.DataFrame(outlist)\n",
        "  outdf.columns = ['contig', 'pos', 'attB_prob', 'attP_prob', 'neg_prob']\n",
        "  return(outdf)\n",
        "  "
      ],
      "execution_count": 0,
      "outputs": []
    },
    {
      "cell_type": "code",
      "metadata": {
        "id": "X_riwZKLUiTY",
        "colab_type": "code",
        "outputId": "5c197efb-6866-40ae-8498-3547bfb996d8",
        "colab": {
          "base_uri": "https://localhost:8080/",
          "height": 35
        }
      },
      "source": [
        "# Now start looping through regions, making predictions, and writing to file.\n",
        "for contig, start, end in regions[:3]:\n",
        "  outfile = \"human_genome_att_predictions/\" + contig + ':' + str(start) + '-' + str(end) + '.tsv'\n",
        "  if isfile(outfile):\n",
        "    continue\n",
        "  preds = get_signif_attsites(fasta, contig, start, end)\n",
        "  if preds is not None:\n",
        "    preds.to_csv(outfile, sep='\\t', index=False)"
      ],
      "execution_count": 17,
      "outputs": [
        {
          "output_type": "stream",
          "text": [
            "NC_000010.11 17000000 18000000\n"
          ],
          "name": "stdout"
        }
      ]
    },
    {
      "cell_type": "markdown",
      "metadata": {
        "id": "HqpbvJmIutQ6",
        "colab_type": "text"
      },
      "source": [
        "# That's it!"
      ]
    }
  ]
}