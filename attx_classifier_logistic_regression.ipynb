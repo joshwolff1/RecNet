{
  "nbformat": 4,
  "nbformat_minor": 0,
  "metadata": {
    "colab": {
      "name": "attx_classifier_logistic_regression.ipynb",
      "provenance": [],
      "collapsed_sections": []
    },
    "kernelspec": {
      "name": "python3",
      "display_name": "Python 3"
    }
  },
  "cells": [
    {
      "cell_type": "markdown",
      "metadata": {
        "id": "M6DeXlgPvqfv",
        "colab_type": "text"
      },
      "source": [
        "# Logistic Regression Baseline\n",
        "This code was run just to get a logistic regression baseline for the attb vs. attp vs. other classifier.\n",
        "\n",
        "Written By: Matt Durrant"
      ]
    },
    {
      "cell_type": "code",
      "metadata": {
        "id": "uZ9JBvYG_Sdl",
        "colab_type": "code",
        "outputId": "7801323c-8bc1-4429-a9ab-d8e48439480d",
        "colab": {
          "base_uri": "https://localhost:8080/",
          "height": 222
        }
      },
      "source": [
        "from __future__ import absolute_import, division, print_function, unicode_literals\n",
        "import pandas as pd\n",
        "\n",
        "# TensorFlow and tf.keras\n",
        "import tensorflow as tf\n",
        "import random\n",
        "from tensorflow import keras\n",
        "from keras.utils import to_categorical\n",
        "\n",
        "# Helper libraries\n",
        "import numpy as np\n",
        "import matplotlib.pyplot as plt\n",
        "\n",
        "# https://www.tensorflow.org/tutorials/keras/classification\n",
        "print(tf.__version__)\n",
        "\n",
        "from google.colab import drive\n",
        "drive.mount('/gdrive')\n",
        "%cd /gdrive/Shared\\ drives/CS230/datasets\n",
        "import matplotlib.pyplot as plt\n",
        "\n",
        "random.seed(42)"
      ],
      "execution_count": 1,
      "outputs": [
        {
          "output_type": "display_data",
          "data": {
            "text/html": [
              "<p style=\"color: red;\">\n",
              "The default version of TensorFlow in Colab will soon switch to TensorFlow 2.x.<br>\n",
              "We recommend you <a href=\"https://www.tensorflow.org/guide/migrate\" target=\"_blank\">upgrade</a> now \n",
              "or ensure your notebook will continue to use TensorFlow 1.x via the <code>%tensorflow_version 1.x</code> magic:\n",
              "<a href=\"https://colab.research.google.com/notebooks/tensorflow_version.ipynb\" target=\"_blank\">more info</a>.</p>\n"
            ],
            "text/plain": [
              "<IPython.core.display.HTML object>"
            ]
          },
          "metadata": {
            "tags": []
          }
        },
        {
          "output_type": "stream",
          "text": [
            "Using TensorFlow backend.\n"
          ],
          "name": "stderr"
        },
        {
          "output_type": "stream",
          "text": [
            "1.15.0\n",
            "Go to this URL in a browser: https://accounts.google.com/o/oauth2/auth?client_id=947318989803-6bn6qk8qdgf4n4g3pfee6491hc0brc4i.apps.googleusercontent.com&redirect_uri=urn%3aietf%3awg%3aoauth%3a2.0%3aoob&response_type=code&scope=email%20https%3a%2f%2fwww.googleapis.com%2fauth%2fdocs.test%20https%3a%2f%2fwww.googleapis.com%2fauth%2fdrive%20https%3a%2f%2fwww.googleapis.com%2fauth%2fdrive.photos.readonly%20https%3a%2f%2fwww.googleapis.com%2fauth%2fpeopleapi.readonly\n",
            "\n",
            "Enter your authorization code:\n",
            "··········\n",
            "Mounted at /gdrive\n",
            "/gdrive/Shared drives/CS230/datasets\n"
          ],
          "name": "stdout"
        }
      ]
    },
    {
      "cell_type": "code",
      "metadata": {
        "id": "ySXd5cM0lijd",
        "colab_type": "code",
        "colab": {}
      },
      "source": [
        "# Load the data, saved in a pickle file\n",
        "import pickle\n",
        "with open('attx_classifier.pickle', 'rb') as handle:\n",
        "    data = pickle.load(handle)"
      ],
      "execution_count": 0,
      "outputs": []
    },
    {
      "cell_type": "code",
      "metadata": {
        "id": "v0Oz-PTOATyf",
        "colab_type": "code",
        "colab": {}
      },
      "source": [
        "# Reshape the data to flatten the one-hot encodings.\n",
        "data['set1']['train']['x'] = data['set1']['train']['x'].reshape((data['set1']['train']['x'].shape[0], 600))\n",
        "data['set1']['dev']['x'] = data['set1']['dev']['x'].reshape((data['set1']['dev']['x'].shape[0], 600))\n",
        "data['set1']['test']['x'] = data['set1']['test']['x'].reshape((data['set1']['test']['x'].shape[0], 600))\n",
        "data['set2']['train']['x'] = data['set2']['train']['x'].reshape((data['set2']['train']['x'].shape[0], 600))\n",
        "data['set2']['dev']['x'] = data['set2']['dev']['x'].reshape((data['set2']['dev']['x'].shape[0], 600))\n",
        "data['set2']['test']['x'] = data['set2']['test']['x'].reshape((data['set2']['test']['x'].shape[0], 600))"
      ],
      "execution_count": 0,
      "outputs": []
    },
    {
      "cell_type": "code",
      "metadata": {
        "id": "PQfJy29OBI2Y",
        "colab_type": "code",
        "outputId": "65f73081-2484-4068-a135-d76f6300c944",
        "colab": {
          "base_uri": "https://localhost:8080/",
          "height": 383
        }
      },
      "source": [
        "# Build the model, a single layer with a softmax activation\n",
        "# This is equivalent to logistic regression\n",
        "from keras.models import Sequential, model_from_json\n",
        "from keras.layers import Dense, Conv2D, Conv1D, Flatten, MaxPooling1D, Dropout, AveragePooling1D\n",
        "np.random.seed(42)\n",
        "\n",
        "model_set1 = Sequential()\n",
        "model_set1.add(Dense(3, activation='softmax', input_dim=600))\n",
        "\n",
        "model_set1.compile(optimizer='adam', loss='categorical_crossentropy', metrics=['accuracy'])\n",
        "model_set1.summary()"
      ],
      "execution_count": 4,
      "outputs": [
        {
          "output_type": "stream",
          "text": [
            "WARNING:tensorflow:From /usr/local/lib/python3.6/dist-packages/keras/backend/tensorflow_backend.py:66: The name tf.get_default_graph is deprecated. Please use tf.compat.v1.get_default_graph instead.\n",
            "\n",
            "WARNING:tensorflow:From /usr/local/lib/python3.6/dist-packages/keras/backend/tensorflow_backend.py:541: The name tf.placeholder is deprecated. Please use tf.compat.v1.placeholder instead.\n",
            "\n",
            "WARNING:tensorflow:From /usr/local/lib/python3.6/dist-packages/keras/backend/tensorflow_backend.py:4432: The name tf.random_uniform is deprecated. Please use tf.random.uniform instead.\n",
            "\n",
            "WARNING:tensorflow:From /usr/local/lib/python3.6/dist-packages/keras/optimizers.py:793: The name tf.train.Optimizer is deprecated. Please use tf.compat.v1.train.Optimizer instead.\n",
            "\n",
            "WARNING:tensorflow:From /usr/local/lib/python3.6/dist-packages/keras/backend/tensorflow_backend.py:3576: The name tf.log is deprecated. Please use tf.math.log instead.\n",
            "\n",
            "Model: \"sequential_1\"\n",
            "_________________________________________________________________\n",
            "Layer (type)                 Output Shape              Param #   \n",
            "=================================================================\n",
            "dense_1 (Dense)              (None, 3)                 1803      \n",
            "=================================================================\n",
            "Total params: 1,803\n",
            "Trainable params: 1,803\n",
            "Non-trainable params: 0\n",
            "_________________________________________________________________\n"
          ],
          "name": "stdout"
        }
      ]
    },
    {
      "cell_type": "code",
      "metadata": {
        "id": "DimRngYSBSSW",
        "colab_type": "code",
        "outputId": "d1a9c388-c07c-420c-d406-88111a1d1b63",
        "colab": {
          "base_uri": "https://localhost:8080/",
          "height": 901
        }
      },
      "source": [
        "# Train the model for 16 epochs\n",
        "results_set1 = model_set1.fit(data['set1']['train']['x'], data['set1']['train']['y'], validation_data=(data['set1']['dev']['x'], data['set1']['dev']['y']), epochs=15)\n"
      ],
      "execution_count": 5,
      "outputs": [
        {
          "output_type": "stream",
          "text": [
            "WARNING:tensorflow:From /usr/local/lib/python3.6/dist-packages/tensorflow_core/python/ops/math_grad.py:1424: where (from tensorflow.python.ops.array_ops) is deprecated and will be removed in a future version.\n",
            "Instructions for updating:\n",
            "Use tf.where in 2.0, which has the same broadcast rule as np.where\n",
            "WARNING:tensorflow:From /usr/local/lib/python3.6/dist-packages/keras/backend/tensorflow_backend.py:1033: The name tf.assign_add is deprecated. Please use tf.compat.v1.assign_add instead.\n",
            "\n",
            "WARNING:tensorflow:From /usr/local/lib/python3.6/dist-packages/keras/backend/tensorflow_backend.py:1020: The name tf.assign is deprecated. Please use tf.compat.v1.assign instead.\n",
            "\n",
            "WARNING:tensorflow:From /usr/local/lib/python3.6/dist-packages/keras/backend/tensorflow_backend.py:3005: The name tf.Session is deprecated. Please use tf.compat.v1.Session instead.\n",
            "\n",
            "Train on 116334 samples, validate on 20796 samples\n",
            "Epoch 1/15\n",
            "WARNING:tensorflow:From /usr/local/lib/python3.6/dist-packages/keras/backend/tensorflow_backend.py:190: The name tf.get_default_session is deprecated. Please use tf.compat.v1.get_default_session instead.\n",
            "\n",
            "WARNING:tensorflow:From /usr/local/lib/python3.6/dist-packages/keras/backend/tensorflow_backend.py:197: The name tf.ConfigProto is deprecated. Please use tf.compat.v1.ConfigProto instead.\n",
            "\n",
            "WARNING:tensorflow:From /usr/local/lib/python3.6/dist-packages/keras/backend/tensorflow_backend.py:207: The name tf.global_variables is deprecated. Please use tf.compat.v1.global_variables instead.\n",
            "\n",
            "WARNING:tensorflow:From /usr/local/lib/python3.6/dist-packages/keras/backend/tensorflow_backend.py:216: The name tf.is_variable_initialized is deprecated. Please use tf.compat.v1.is_variable_initialized instead.\n",
            "\n",
            "WARNING:tensorflow:From /usr/local/lib/python3.6/dist-packages/keras/backend/tensorflow_backend.py:223: The name tf.variables_initializer is deprecated. Please use tf.compat.v1.variables_initializer instead.\n",
            "\n",
            "116334/116334 [==============================] - 5s 47us/step - loss: 0.8225 - acc: 0.6777 - val_loss: 0.8054 - val_acc: 0.6831\n",
            "Epoch 2/15\n",
            "116334/116334 [==============================] - 5s 42us/step - loss: 0.8119 - acc: 0.6811 - val_loss: 0.8051 - val_acc: 0.6832\n",
            "Epoch 3/15\n",
            "116334/116334 [==============================] - 5s 41us/step - loss: 0.8119 - acc: 0.6808 - val_loss: 0.8043 - val_acc: 0.6811\n",
            "Epoch 4/15\n",
            "116334/116334 [==============================] - 5s 41us/step - loss: 0.8116 - acc: 0.6812 - val_loss: 0.8073 - val_acc: 0.6812\n",
            "Epoch 5/15\n",
            "116334/116334 [==============================] - 5s 42us/step - loss: 0.8121 - acc: 0.6802 - val_loss: 0.8046 - val_acc: 0.6808\n",
            "Epoch 6/15\n",
            "116334/116334 [==============================] - 5s 41us/step - loss: 0.8122 - acc: 0.6805 - val_loss: 0.8079 - val_acc: 0.6797\n",
            "Epoch 7/15\n",
            "116334/116334 [==============================] - 5s 42us/step - loss: 0.8120 - acc: 0.6809 - val_loss: 0.8031 - val_acc: 0.6831\n",
            "Epoch 8/15\n",
            "116334/116334 [==============================] - 5s 41us/step - loss: 0.8121 - acc: 0.6806 - val_loss: 0.8063 - val_acc: 0.6847\n",
            "Epoch 9/15\n",
            "116334/116334 [==============================] - 5s 43us/step - loss: 0.8115 - acc: 0.6809 - val_loss: 0.8060 - val_acc: 0.6802\n",
            "Epoch 10/15\n",
            "116334/116334 [==============================] - 5s 44us/step - loss: 0.8119 - acc: 0.6799 - val_loss: 0.8078 - val_acc: 0.6824\n",
            "Epoch 11/15\n",
            "116334/116334 [==============================] - 5s 43us/step - loss: 0.8119 - acc: 0.6810 - val_loss: 0.8046 - val_acc: 0.6820\n",
            "Epoch 12/15\n",
            "116334/116334 [==============================] - 5s 41us/step - loss: 0.8119 - acc: 0.6809 - val_loss: 0.8031 - val_acc: 0.6828\n",
            "Epoch 13/15\n",
            "116334/116334 [==============================] - 5s 41us/step - loss: 0.8114 - acc: 0.6810 - val_loss: 0.8088 - val_acc: 0.6789\n",
            "Epoch 14/15\n",
            "116334/116334 [==============================] - 5s 41us/step - loss: 0.8119 - acc: 0.6804 - val_loss: 0.8029 - val_acc: 0.6824\n",
            "Epoch 15/15\n",
            "116334/116334 [==============================] - 5s 41us/step - loss: 0.8122 - acc: 0.6807 - val_loss: 0.8021 - val_acc: 0.6841\n"
          ],
          "name": "stdout"
        }
      ]
    },
    {
      "cell_type": "code",
      "metadata": {
        "id": "cZoEHPNLel3m",
        "colab_type": "code",
        "outputId": "4b3f130b-375c-4c13-e0e0-56ea22a3475a",
        "colab": {
          "base_uri": "https://localhost:8080/",
          "height": 725
        }
      },
      "source": [
        "# Do the same thing for the second (clean) dataset.\n",
        "model_set2 = Sequential()\n",
        "model_set2.add(Dense(3, activation='softmax', input_dim=600))\n",
        "\n",
        "model_set2.compile(optimizer='adam', loss='categorical_crossentropy', metrics=['accuracy'])\n",
        "model_set2.summary()\n",
        "\n",
        "results_set2 = model_set1.fit(data['set2']['train']['x'], data['set2']['train']['y'], validation_data=(data['set2']['dev']['x'], data['set2']['dev']['y']), epochs=15)\n"
      ],
      "execution_count": 6,
      "outputs": [
        {
          "output_type": "stream",
          "text": [
            "Model: \"sequential_2\"\n",
            "_________________________________________________________________\n",
            "Layer (type)                 Output Shape              Param #   \n",
            "=================================================================\n",
            "dense_2 (Dense)              (None, 3)                 1803      \n",
            "=================================================================\n",
            "Total params: 1,803\n",
            "Trainable params: 1,803\n",
            "Non-trainable params: 0\n",
            "_________________________________________________________________\n",
            "Train on 60501 samples, validate on 9915 samples\n",
            "Epoch 1/15\n",
            "60501/60501 [==============================] - 3s 45us/step - loss: 0.7482 - acc: 0.7022 - val_loss: 0.7330 - val_acc: 0.7070\n",
            "Epoch 2/15\n",
            "60501/60501 [==============================] - 2s 41us/step - loss: 0.7416 - acc: 0.7029 - val_loss: 0.7350 - val_acc: 0.7073\n",
            "Epoch 3/15\n",
            "60501/60501 [==============================] - 2s 41us/step - loss: 0.7409 - acc: 0.7035 - val_loss: 0.7318 - val_acc: 0.7052\n",
            "Epoch 4/15\n",
            "60501/60501 [==============================] - 3s 42us/step - loss: 0.7402 - acc: 0.7035 - val_loss: 0.7310 - val_acc: 0.7076\n",
            "Epoch 5/15\n",
            "60501/60501 [==============================] - 2s 41us/step - loss: 0.7404 - acc: 0.7036 - val_loss: 0.7355 - val_acc: 0.7056\n",
            "Epoch 6/15\n",
            "60501/60501 [==============================] - 2s 41us/step - loss: 0.7401 - acc: 0.7027 - val_loss: 0.7309 - val_acc: 0.7047\n",
            "Epoch 7/15\n",
            "60501/60501 [==============================] - 2s 41us/step - loss: 0.7397 - acc: 0.7034 - val_loss: 0.7319 - val_acc: 0.7060\n",
            "Epoch 8/15\n",
            "60501/60501 [==============================] - 2s 41us/step - loss: 0.7399 - acc: 0.7021 - val_loss: 0.7296 - val_acc: 0.7037\n",
            "Epoch 9/15\n",
            "60501/60501 [==============================] - 3s 41us/step - loss: 0.7400 - acc: 0.7026 - val_loss: 0.7285 - val_acc: 0.7048\n",
            "Epoch 10/15\n",
            "60501/60501 [==============================] - 2s 41us/step - loss: 0.7391 - acc: 0.7032 - val_loss: 0.7327 - val_acc: 0.7053\n",
            "Epoch 11/15\n",
            "60501/60501 [==============================] - 3s 41us/step - loss: 0.7395 - acc: 0.7026 - val_loss: 0.7339 - val_acc: 0.7041\n",
            "Epoch 12/15\n",
            "60501/60501 [==============================] - 2s 41us/step - loss: 0.7395 - acc: 0.7032 - val_loss: 0.7308 - val_acc: 0.7046\n",
            "Epoch 13/15\n",
            "60501/60501 [==============================] - 2s 41us/step - loss: 0.7396 - acc: 0.7027 - val_loss: 0.7305 - val_acc: 0.7027\n",
            "Epoch 14/15\n",
            "60501/60501 [==============================] - 2s 41us/step - loss: 0.7396 - acc: 0.7037 - val_loss: 0.7324 - val_acc: 0.7062\n",
            "Epoch 15/15\n",
            "60501/60501 [==============================] - 2s 41us/step - loss: 0.7394 - acc: 0.7040 - val_loss: 0.7308 - val_acc: 0.7059\n"
          ],
          "name": "stdout"
        }
      ]
    },
    {
      "cell_type": "markdown",
      "metadata": {
        "id": "9cV8GdB_wasi",
        "colab_type": "text"
      },
      "source": [
        "If one were to guess the majority class every time, accuracy would be 66.6%. You can see here that for the raw/noisy dataset, logistic regression achieves an accuracy of 68.4% on the validation set. On the cleaned dataset, logistic regression achieves 70.6% accuracy. While the models don't perform well, it's interesting to see how much better the clean dataset performs than the noisy."
      ]
    }
  ]
}