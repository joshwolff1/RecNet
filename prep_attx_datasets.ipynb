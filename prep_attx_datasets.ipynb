{
  "nbformat": 4,
  "nbformat_minor": 0,
  "metadata": {
    "colab": {
      "name": "prep_attx_datasets.ipynb",
      "provenance": []
    },
    "kernelspec": {
      "name": "python3",
      "display_name": "Python 3"
    }
  },
  "cells": [
    {
      "cell_type": "markdown",
      "metadata": {
        "id": "CjOZ4bZ9x1SR",
        "colab_type": "text"
      },
      "source": [
        "# Preparing datasets\n",
        "While this code doesn't represent the entire data preparation process (a long and complicated process), it shows what the data look like for the attX classification task, Task 1. This was used to prepare the data for models.\n",
        "\n",
        "\n",
        "Written By: Matt Durrant"
      ]
    },
    {
      "cell_type": "code",
      "metadata": {
        "id": "M3c_HgwZ4c20",
        "colab_type": "code",
        "outputId": "a6bca9fb-6b74-4237-a460-17ef2f447ce9",
        "colab": {
          "base_uri": "https://localhost:8080/",
          "height": 222
        }
      },
      "source": [
        "from __future__ import absolute_import, division, print_function, unicode_literals\n",
        "import pandas as pd\n",
        "\n",
        "# TensorFlow and tf.keras\n",
        "import tensorflow as tf\n",
        "import random\n",
        "from tensorflow import keras\n",
        "from keras.utils import to_categorical\n",
        "\n",
        "# Helper libraries\n",
        "import numpy as np\n",
        "import matplotlib.pyplot as plt\n",
        "\n",
        "# https://www.tensorflow.org/tutorials/keras/classification\n",
        "print(tf.__version__)\n",
        "\n",
        "from google.colab import drive\n",
        "drive.mount('/gdrive')\n",
        "%cd /gdrive/Shared\\ drives/CS230/datasets\n",
        "import matplotlib.pyplot as plt\n",
        "\n",
        "random.seed(42)"
      ],
      "execution_count": 1,
      "outputs": [
        {
          "output_type": "display_data",
          "data": {
            "text/html": [
              "<p style=\"color: red;\">\n",
              "The default version of TensorFlow in Colab will soon switch to TensorFlow 2.x.<br>\n",
              "We recommend you <a href=\"https://www.tensorflow.org/guide/migrate\" target=\"_blank\">upgrade</a> now \n",
              "or ensure your notebook will continue to use TensorFlow 1.x via the <code>%tensorflow_version 1.x</code> magic:\n",
              "<a href=\"https://colab.research.google.com/notebooks/tensorflow_version.ipynb\" target=\"_blank\">more info</a>.</p>\n"
            ],
            "text/plain": [
              "<IPython.core.display.HTML object>"
            ]
          },
          "metadata": {
            "tags": []
          }
        },
        {
          "output_type": "stream",
          "text": [
            "Using TensorFlow backend.\n"
          ],
          "name": "stderr"
        },
        {
          "output_type": "stream",
          "text": [
            "1.15.0\n",
            "Go to this URL in a browser: https://accounts.google.com/o/oauth2/auth?client_id=947318989803-6bn6qk8qdgf4n4g3pfee6491hc0brc4i.apps.googleusercontent.com&redirect_uri=urn%3aietf%3awg%3aoauth%3a2.0%3aoob&response_type=code&scope=email%20https%3a%2f%2fwww.googleapis.com%2fauth%2fdocs.test%20https%3a%2f%2fwww.googleapis.com%2fauth%2fdrive%20https%3a%2f%2fwww.googleapis.com%2fauth%2fdrive.photos.readonly%20https%3a%2f%2fwww.googleapis.com%2fauth%2fpeopleapi.readonly\n",
            "\n",
            "Enter your authorization code:\n",
            "··········\n",
            "Mounted at /gdrive\n",
            "/gdrive/Shared drives/CS230/datasets\n"
          ],
          "name": "stdout"
        }
      ]
    },
    {
      "cell_type": "code",
      "metadata": {
        "id": "EVuILYl25EBj",
        "colab_type": "code",
        "colab": {}
      },
      "source": [
        "# Loading the attX classifier darta (Task 1)\n",
        "train1, dev1, test1 = pd.read_csv(\"set1/attx_classifier/train_attx_classifier.tsv\", sep='\\t'), pd.read_csv(\"set1/attx_classifier/dev_attx_classifier.tsv\", sep='\\t'), pd.read_csv(\"set1/attx_classifier/test_attx_classifier.tsv\", sep='\\t')\n",
        "train2, dev2, test2 = pd.read_csv(\"set2/attx_classifier/train_attx_classifier.tsv\", sep='\\t'), pd.read_csv(\"set2/attx_classifier/dev_attx_classifier.tsv\", sep='\\t'), pd.read_csv(\"set2/attx_classifier/test_attx_classifier.tsv\", sep='\\t')"
      ],
      "execution_count": 0,
      "outputs": []
    },
    {
      "cell_type": "code",
      "metadata": {
        "id": "fmzE-FBjyYV0",
        "colab_type": "code",
        "colab": {
          "base_uri": "https://localhost:8080/",
          "height": 198
        },
        "outputId": "35c25bd7-de31-4751-88f1-769e7f32a98e"
      },
      "source": [
        "train1.head()"
      ],
      "execution_count": 4,
      "outputs": [
        {
          "output_type": "execute_result",
          "data": {
            "text/html": [
              "<div>\n",
              "<style scoped>\n",
              "    .dataframe tbody tr th:only-of-type {\n",
              "        vertical-align: middle;\n",
              "    }\n",
              "\n",
              "    .dataframe tbody tr th {\n",
              "        vertical-align: top;\n",
              "    }\n",
              "\n",
              "    .dataframe thead th {\n",
              "        text-align: right;\n",
              "    }\n",
              "</style>\n",
              "<table border=\"1\" class=\"dataframe\">\n",
              "  <thead>\n",
              "    <tr style=\"text-align: right;\">\n",
              "      <th></th>\n",
              "      <th>set</th>\n",
              "      <th>type</th>\n",
              "      <th>att</th>\n",
              "      <th>y1</th>\n",
              "      <th>y2</th>\n",
              "    </tr>\n",
              "  </thead>\n",
              "  <tbody>\n",
              "    <tr>\n",
              "      <th>0</th>\n",
              "      <td>train</td>\n",
              "      <td>attb</td>\n",
              "      <td>TTCTAATTACCTCTAATAATGCATACATTGTCGTTGTCTTCCCAGA...</td>\n",
              "      <td>1</td>\n",
              "      <td>1</td>\n",
              "    </tr>\n",
              "    <tr>\n",
              "      <th>1</th>\n",
              "      <td>train</td>\n",
              "      <td>attb</td>\n",
              "      <td>ATATTGAAGAAAGGCTATCTAAATGGACTGGGAAAGCAAATATATT...</td>\n",
              "      <td>1</td>\n",
              "      <td>1</td>\n",
              "    </tr>\n",
              "    <tr>\n",
              "      <th>2</th>\n",
              "      <td>train</td>\n",
              "      <td>attb</td>\n",
              "      <td>CTTTAGAACTAATGATCAGGGTTGTTATATTTTGTACCTCACTCTT...</td>\n",
              "      <td>1</td>\n",
              "      <td>1</td>\n",
              "    </tr>\n",
              "    <tr>\n",
              "      <th>3</th>\n",
              "      <td>train</td>\n",
              "      <td>attb</td>\n",
              "      <td>CAATCGGTATGCCATGAGACAAGGTAATAGTAGTGGCGAAAGTATG...</td>\n",
              "      <td>1</td>\n",
              "      <td>1</td>\n",
              "    </tr>\n",
              "    <tr>\n",
              "      <th>4</th>\n",
              "      <td>train</td>\n",
              "      <td>attb</td>\n",
              "      <td>TTTATATTTAATTATTAAATTAACAAATTTTAATTGGCGGATGAGG...</td>\n",
              "      <td>1</td>\n",
              "      <td>1</td>\n",
              "    </tr>\n",
              "  </tbody>\n",
              "</table>\n",
              "</div>"
            ],
            "text/plain": [
              "     set  type                                                att  y1  y2\n",
              "0  train  attb  TTCTAATTACCTCTAATAATGCATACATTGTCGTTGTCTTCCCAGA...   1   1\n",
              "1  train  attb  ATATTGAAGAAAGGCTATCTAAATGGACTGGGAAAGCAAATATATT...   1   1\n",
              "2  train  attb  CTTTAGAACTAATGATCAGGGTTGTTATATTTTGTACCTCACTCTT...   1   1\n",
              "3  train  attb  CAATCGGTATGCCATGAGACAAGGTAATAGTAGTGGCGAAAGTATG...   1   1\n",
              "4  train  attb  TTTATATTTAATTATTAAATTAACAAATTTTAATTGGCGGATGAGG...   1   1"
            ]
          },
          "metadata": {
            "tags": []
          },
          "execution_count": 4
        }
      ]
    },
    {
      "cell_type": "code",
      "metadata": {
        "id": "jhEOJ0lByfU0",
        "colab_type": "code",
        "colab": {
          "base_uri": "https://localhost:8080/",
          "height": 198
        },
        "outputId": "240e2fc4-ef73-45fb-bf53-c092508f3248"
      },
      "source": [
        "train1.tail()"
      ],
      "execution_count": 7,
      "outputs": [
        {
          "output_type": "execute_result",
          "data": {
            "text/html": [
              "<div>\n",
              "<style scoped>\n",
              "    .dataframe tbody tr th:only-of-type {\n",
              "        vertical-align: middle;\n",
              "    }\n",
              "\n",
              "    .dataframe tbody tr th {\n",
              "        vertical-align: top;\n",
              "    }\n",
              "\n",
              "    .dataframe thead th {\n",
              "        text-align: right;\n",
              "    }\n",
              "</style>\n",
              "<table border=\"1\" class=\"dataframe\">\n",
              "  <thead>\n",
              "    <tr style=\"text-align: right;\">\n",
              "      <th></th>\n",
              "      <th>set</th>\n",
              "      <th>type</th>\n",
              "      <th>att</th>\n",
              "      <th>y1</th>\n",
              "      <th>y2</th>\n",
              "    </tr>\n",
              "  </thead>\n",
              "  <tbody>\n",
              "    <tr>\n",
              "      <th>116329</th>\n",
              "      <td>train</td>\n",
              "      <td>control</td>\n",
              "      <td>CCGGCTGTTCGGTGGATTTGTGCAGAGATTGAACTGTGATGGTTGT...</td>\n",
              "      <td>0</td>\n",
              "      <td>0</td>\n",
              "    </tr>\n",
              "    <tr>\n",
              "      <th>116330</th>\n",
              "      <td>train</td>\n",
              "      <td>control</td>\n",
              "      <td>CCTTGATTCTGGTTATTTGACAACCTCAATCTGTAAAGGTTTATCG...</td>\n",
              "      <td>0</td>\n",
              "      <td>0</td>\n",
              "    </tr>\n",
              "    <tr>\n",
              "      <th>116331</th>\n",
              "      <td>train</td>\n",
              "      <td>control</td>\n",
              "      <td>CATGCGGTTACTCACTATCGTGTTGCGGAGCATTTCCGTGAACATA...</td>\n",
              "      <td>0</td>\n",
              "      <td>0</td>\n",
              "    </tr>\n",
              "    <tr>\n",
              "      <th>116332</th>\n",
              "      <td>train</td>\n",
              "      <td>control</td>\n",
              "      <td>CAGGTGCAAGAGGCAAGACGCAAGGCGACAGAAAGGATATAGCGCC...</td>\n",
              "      <td>0</td>\n",
              "      <td>0</td>\n",
              "    </tr>\n",
              "    <tr>\n",
              "      <th>116333</th>\n",
              "      <td>train</td>\n",
              "      <td>control</td>\n",
              "      <td>CAACTGGCGGGGAACCAGCGGGTCATCCTCACGCCCACTGTAACGA...</td>\n",
              "      <td>0</td>\n",
              "      <td>0</td>\n",
              "    </tr>\n",
              "  </tbody>\n",
              "</table>\n",
              "</div>"
            ],
            "text/plain": [
              "          set     type  ... y1  y2\n",
              "116329  train  control  ...  0   0\n",
              "116330  train  control  ...  0   0\n",
              "116331  train  control  ...  0   0\n",
              "116332  train  control  ...  0   0\n",
              "116333  train  control  ...  0   0\n",
              "\n",
              "[5 rows x 5 columns]"
            ]
          },
          "metadata": {
            "tags": []
          },
          "execution_count": 7
        }
      ]
    },
    {
      "cell_type": "code",
      "metadata": {
        "id": "T1kY7OBDyj62",
        "colab_type": "code",
        "colab": {
          "base_uri": "https://localhost:8080/",
          "height": 121
        },
        "outputId": "ad9475a6-cd10-45cb-9c6b-d14e4de54838"
      },
      "source": [
        "print(\"SET 1 - TRAINING SET DIMENSIONS:\",   train1.shape)\n",
        "print(\"SET 1 - DEV SET DIMENSIONS:\",   dev1.shape)\n",
        "print(\"SET 1 - TEST SET DIMENSIONS:\",   test1.shape)\n",
        "print(\"SET 2 - TRAINING SET DIMENSIONS:\",   train2.shape)\n",
        "print(\"SET 2 - DEV SET DIMENSIONS:\",   dev2.shape)\n",
        "print(\"SET 2 - TEST SET DIMENSIONS:\",   test2.shape)"
      ],
      "execution_count": 9,
      "outputs": [
        {
          "output_type": "stream",
          "text": [
            "SET 1 - TRAINING SET DIMENSIONS: (116334, 5)\n",
            "SET 1 - DEV SET DIMENSIONS: (20796, 5)\n",
            "SET 1 - TEST SET DIMENSIONS: (40296, 5)\n",
            "SET 2 - TRAINING SET DIMENSIONS: (60501, 5)\n",
            "SET 2 - DEV SET DIMENSIONS: (9915, 5)\n",
            "SET 2 - TEST SET DIMENSIONS: (19662, 5)\n"
          ],
          "name": "stdout"
        }
      ]
    },
    {
      "cell_type": "code",
      "metadata": {
        "id": "XFRusUqO6Sae",
        "colab_type": "code",
        "colab": {}
      },
      "source": [
        "# Code used to one-hot encode the data\n",
        "def seq_to_one_hot_fill_in_array(zeros_array, sequence, one_hot_axis):\n",
        "    assert one_hot_axis==0 or one_hot_axis==1\n",
        "    if (one_hot_axis==0):\n",
        "        assert zeros_array.shape[1] == len(sequence)\n",
        "    elif (one_hot_axis==1): \n",
        "        assert zeros_array.shape[0] == len(sequence)\n",
        "    #will mutate zeros_array\n",
        "    for (i,char) in enumerate(sequence):\n",
        "        if char.upper()==\"A\":\n",
        "            char_idx = 0\n",
        "        elif char.upper()==\"C\":\n",
        "            char_idx = 1\n",
        "        elif char.upper()==\"G\":\n",
        "            char_idx = 2\n",
        "        elif char.upper()==\"T\":\n",
        "            char_idx = 3\n",
        "        elif char.upper()==\"N\":\n",
        "            continue #leave that pos as all 0's\n",
        "        else:\n",
        "            raise RuntimeError(\"Unsupported character: \"+str(char))\n",
        "        if (one_hot_axis==0):\n",
        "            zeros_array[char_idx,i] = 1\n",
        "        elif (one_hot_axis==1):\n",
        "            zeros_array[i,char_idx] = 1\n",
        "            \n",
        "def one_hot_encode_along_channel_axis(sequence):\n",
        "    sequence = ''.join(sequence)\n",
        "    to_return = np.zeros((150,4), dtype=np.int8)\n",
        "    padlength = 150 - len(sequence)\n",
        "    padleft = int(padlength/2)\n",
        "    padright = padlength - padleft\n",
        "    padded = \"N\"*padleft + sequence + \"N\"*padright\n",
        "    seq_to_one_hot_fill_in_array(zeros_array=to_return,\n",
        "                                 sequence=padded, one_hot_axis=1)\n",
        "    return to_return\n",
        "\n",
        "def one_hot_encode_y(y, dim):\n",
        "  outy = np.zeros((1, dim))\n",
        "  outy[0,y] = 1\n",
        "  return(list(outy))"
      ],
      "execution_count": 0,
      "outputs": []
    },
    {
      "cell_type": "code",
      "metadata": {
        "id": "lw4eIrAU5O6N",
        "colab_type": "code",
        "colab": {}
      },
      "source": [
        "# Getting one-hot encodings of each dataset 1 (raw)\n",
        "train1_att = np.array(train1.att)\n",
        "train1_y1 = np.array(train1.y1)\n",
        "train1_y2 = np.array(train1.y2)\n",
        "\n",
        "train1_att = np.array([one_hot_encode_along_channel_axis(seq) for seq in train1_att])\n",
        "train1_y2 = np.array([one_hot_encode_y(y, dim=3) for y in train1_y2])\n",
        "train1_y2 = train1_y2.reshape((train1_y2.shape[0], train1_y2.shape[-1]))\n",
        "\n",
        "\n",
        "dev1_att = np.array(dev1.att)\n",
        "dev1_y1 = np.array(dev1.y1)\n",
        "dev1_y2 = np.array(dev1.y2)\n",
        "\n",
        "dev1_att = np.array([one_hot_encode_along_channel_axis(seq) for seq in dev1_att])\n",
        "dev1_y2 = np.array([one_hot_encode_y(y, dim=3) for y in dev1_y2])\n",
        "dev1_y2 = dev1_y2.reshape((dev1_y2.shape[0], dev1_y2.shape[-1]))\n",
        "\n",
        "\n",
        "test1_att = np.array(test1.att)\n",
        "test1_y1 = np.array(test1.y1)\n",
        "test1_y2 = np.array(test1.y2)\n",
        "\n",
        "test1_att = np.array([one_hot_encode_along_channel_axis(seq) for seq in test1_att])\n",
        "test1_y2 = np.array([one_hot_encode_y(y, dim=3) for y in test1_y2])\n",
        "test1_y2 = test1_y2.reshape((test1_y2.shape[0], test1_y2.shape[-1]))"
      ],
      "execution_count": 0,
      "outputs": []
    },
    {
      "cell_type": "code",
      "metadata": {
        "id": "Xz5Gnp0Eb1YP",
        "colab_type": "code",
        "colab": {}
      },
      "source": [
        "# Getting one-hot encodings for dataset 2 (clean)\n",
        "train2_att = np.array(train2.att)\n",
        "train2_y1 = np.array(train2.y1)\n",
        "train2_y2 = np.array(train2.y2)\n",
        "\n",
        "train2_att = np.array([one_hot_encode_along_channel_axis(seq) for seq in train2_att])\n",
        "train2_y2 = np.array([one_hot_encode_y(y, dim=3) for y in train2_y2])\n",
        "train2_y2 = train2_y2.reshape((train2_y2.shape[0], train2_y2.shape[-1]))\n",
        "\n",
        "\n",
        "dev2_att = np.array(dev2.att)\n",
        "dev2_y1 = np.array(dev2.y1)\n",
        "dev2_y2 = np.array(dev2.y2)\n",
        "\n",
        "dev2_att = np.array([one_hot_encode_along_channel_axis(seq) for seq in dev2_att])\n",
        "dev2_y2 = np.array([one_hot_encode_y(y, dim=3) for y in dev2_y2])\n",
        "dev2_y2 = dev2_y2.reshape((dev2_y2.shape[0], dev2_y2.shape[-1]))\n",
        "\n",
        "\n",
        "test2_att = np.array(test2.att)\n",
        "test2_y1 = np.array(test2.y1)\n",
        "test2_y2 = np.array(test2.y2)\n",
        "\n",
        "test2_att = np.array([one_hot_encode_along_channel_axis(seq) for seq in test2_att])\n",
        "test2_y2 = np.array([one_hot_encode_y(y, dim=3) for y in test2_y2])\n",
        "test2_y2 = test2_y2.reshape((test2_y2.shape[0], test2_y2.shape[-1]))"
      ],
      "execution_count": 0,
      "outputs": []
    },
    {
      "cell_type": "code",
      "metadata": {
        "id": "RvB9vqTIzbHe",
        "colab_type": "code",
        "colab": {
          "base_uri": "https://localhost:8080/",
          "height": 1000
        },
        "outputId": "9942fa50-ee0e-4e2f-e040-6aaf4e60bd4e"
      },
      "source": [
        "# Here is an example of one one-hot encoded DNA sequence\n",
        "train1_att[0]"
      ],
      "execution_count": 16,
      "outputs": [
        {
          "output_type": "execute_result",
          "data": {
            "text/plain": [
              "array([[0, 0, 0, 0],\n",
              "       [0, 0, 0, 0],\n",
              "       [0, 0, 0, 0],\n",
              "       [0, 0, 0, 0],\n",
              "       [0, 0, 0, 0],\n",
              "       [0, 0, 0, 0],\n",
              "       [0, 0, 0, 0],\n",
              "       [0, 0, 0, 0],\n",
              "       [0, 0, 0, 0],\n",
              "       [0, 0, 0, 0],\n",
              "       [0, 0, 0, 0],\n",
              "       [0, 0, 0, 0],\n",
              "       [0, 0, 0, 0],\n",
              "       [0, 0, 0, 0],\n",
              "       [0, 0, 0, 0],\n",
              "       [0, 0, 0, 0],\n",
              "       [0, 0, 0, 0],\n",
              "       [0, 0, 0, 0],\n",
              "       [0, 0, 0, 0],\n",
              "       [0, 0, 0, 0],\n",
              "       [0, 0, 0, 0],\n",
              "       [0, 0, 0, 0],\n",
              "       [0, 0, 0, 0],\n",
              "       [0, 0, 0, 0],\n",
              "       [0, 0, 0, 1],\n",
              "       [0, 0, 0, 1],\n",
              "       [0, 1, 0, 0],\n",
              "       [0, 0, 0, 1],\n",
              "       [1, 0, 0, 0],\n",
              "       [1, 0, 0, 0],\n",
              "       [0, 0, 0, 1],\n",
              "       [0, 0, 0, 1],\n",
              "       [1, 0, 0, 0],\n",
              "       [0, 1, 0, 0],\n",
              "       [0, 1, 0, 0],\n",
              "       [0, 0, 0, 1],\n",
              "       [0, 1, 0, 0],\n",
              "       [0, 0, 0, 1],\n",
              "       [1, 0, 0, 0],\n",
              "       [1, 0, 0, 0],\n",
              "       [0, 0, 0, 1],\n",
              "       [1, 0, 0, 0],\n",
              "       [1, 0, 0, 0],\n",
              "       [0, 0, 0, 1],\n",
              "       [0, 0, 1, 0],\n",
              "       [0, 1, 0, 0],\n",
              "       [1, 0, 0, 0],\n",
              "       [0, 0, 0, 1],\n",
              "       [1, 0, 0, 0],\n",
              "       [0, 1, 0, 0],\n",
              "       [1, 0, 0, 0],\n",
              "       [0, 0, 0, 1],\n",
              "       [0, 0, 0, 1],\n",
              "       [0, 0, 1, 0],\n",
              "       [0, 0, 0, 1],\n",
              "       [0, 1, 0, 0],\n",
              "       [0, 0, 1, 0],\n",
              "       [0, 0, 0, 1],\n",
              "       [0, 0, 0, 1],\n",
              "       [0, 0, 1, 0],\n",
              "       [0, 0, 0, 1],\n",
              "       [0, 1, 0, 0],\n",
              "       [0, 0, 0, 1],\n",
              "       [0, 0, 0, 1],\n",
              "       [0, 1, 0, 0],\n",
              "       [0, 1, 0, 0],\n",
              "       [0, 1, 0, 0],\n",
              "       [1, 0, 0, 0],\n",
              "       [0, 0, 1, 0],\n",
              "       [1, 0, 0, 0],\n",
              "       [1, 0, 0, 0],\n",
              "       [0, 1, 0, 0],\n",
              "       [0, 1, 0, 0],\n",
              "       [1, 0, 0, 0],\n",
              "       [0, 0, 1, 0],\n",
              "       [0, 0, 0, 1],\n",
              "       [0, 1, 0, 0],\n",
              "       [0, 0, 1, 0],\n",
              "       [0, 0, 1, 0],\n",
              "       [0, 0, 0, 1],\n",
              "       [0, 1, 0, 0],\n",
              "       [0, 1, 0, 0],\n",
              "       [1, 0, 0, 0],\n",
              "       [0, 0, 1, 0],\n",
              "       [0, 0, 0, 1],\n",
              "       [1, 0, 0, 0],\n",
              "       [1, 0, 0, 0],\n",
              "       [1, 0, 0, 0],\n",
              "       [0, 1, 0, 0],\n",
              "       [1, 0, 0, 0],\n",
              "       [0, 1, 0, 0],\n",
              "       [0, 0, 1, 0],\n",
              "       [1, 0, 0, 0],\n",
              "       [0, 0, 1, 0],\n",
              "       [0, 0, 0, 1],\n",
              "       [1, 0, 0, 0],\n",
              "       [0, 0, 1, 0],\n",
              "       [0, 1, 0, 0],\n",
              "       [0, 1, 0, 0],\n",
              "       [0, 1, 0, 0],\n",
              "       [0, 1, 0, 0],\n",
              "       [0, 0, 0, 1],\n",
              "       [0, 0, 1, 0],\n",
              "       [0, 0, 0, 1],\n",
              "       [0, 0, 1, 0],\n",
              "       [1, 0, 0, 0],\n",
              "       [1, 0, 0, 0],\n",
              "       [0, 0, 0, 1],\n",
              "       [1, 0, 0, 0],\n",
              "       [0, 0, 1, 0],\n",
              "       [0, 1, 0, 0],\n",
              "       [0, 0, 1, 0],\n",
              "       [0, 0, 0, 1],\n",
              "       [1, 0, 0, 0],\n",
              "       [1, 0, 0, 0],\n",
              "       [1, 0, 0, 0],\n",
              "       [1, 0, 0, 0],\n",
              "       [1, 0, 0, 0],\n",
              "       [0, 1, 0, 0],\n",
              "       [0, 0, 1, 0],\n",
              "       [1, 0, 0, 0],\n",
              "       [0, 0, 1, 0],\n",
              "       [1, 0, 0, 0],\n",
              "       [0, 0, 1, 0],\n",
              "       [0, 0, 0, 1],\n",
              "       [1, 0, 0, 0],\n",
              "       [0, 0, 0, 0],\n",
              "       [0, 0, 0, 0],\n",
              "       [0, 0, 0, 0],\n",
              "       [0, 0, 0, 0],\n",
              "       [0, 0, 0, 0],\n",
              "       [0, 0, 0, 0],\n",
              "       [0, 0, 0, 0],\n",
              "       [0, 0, 0, 0],\n",
              "       [0, 0, 0, 0],\n",
              "       [0, 0, 0, 0],\n",
              "       [0, 0, 0, 0],\n",
              "       [0, 0, 0, 0],\n",
              "       [0, 0, 0, 0],\n",
              "       [0, 0, 0, 0],\n",
              "       [0, 0, 0, 0],\n",
              "       [0, 0, 0, 0],\n",
              "       [0, 0, 0, 0],\n",
              "       [0, 0, 0, 0],\n",
              "       [0, 0, 0, 0],\n",
              "       [0, 0, 0, 0],\n",
              "       [0, 0, 0, 0],\n",
              "       [0, 0, 0, 0],\n",
              "       [0, 0, 0, 0],\n",
              "       [0, 0, 0, 0]], dtype=int8)"
            ]
          },
          "metadata": {
            "tags": []
          },
          "execution_count": 16
        }
      ]
    },
    {
      "cell_type": "code",
      "metadata": {
        "id": "F_B5PGKH7Kw0",
        "colab_type": "code",
        "colab": {}
      },
      "source": [
        "final_prepped = {'set1': {'train':{'x':train1_att, 'y':train1_y2}, \n",
        "                          'dev':{'x':dev1_att, 'y':dev1_y2}, \n",
        "                          'test':{'x':test1_att, 'y':test1_y2}}, \n",
        "                 'set2': {'train':{'x':train2_att, 'y':train2_y2}, \n",
        "                          'dev':{'x':dev2_att, 'y':dev2_y2}, \n",
        "                          'test':{'x':test2_att, 'y':test2_y2}}}"
      ],
      "execution_count": 0,
      "outputs": []
    },
    {
      "cell_type": "code",
      "metadata": {
        "id": "FpSL8XRFl47d",
        "colab_type": "code",
        "colab": {}
      },
      "source": [
        "# Function to shuffle both the x and y datasets in unison\n",
        "# This is so that batches don't contain only one class\n",
        "def shuffle_in_unison(a, b):\n",
        "    rng_state = np.random.get_state()\n",
        "    np.random.shuffle(a)\n",
        "    np.random.set_state(rng_state)\n",
        "    np.random.shuffle(b)"
      ],
      "execution_count": 0,
      "outputs": []
    },
    {
      "cell_type": "code",
      "metadata": {
        "id": "m7Y7E33_l_jW",
        "colab_type": "code",
        "colab": {}
      },
      "source": [
        "# Now shuffling x and y in unison\n",
        "random.seed(42)\n",
        "shuffle_in_unison(final_prepped['set1']['train']['x'], final_prepped['set1']['train']['y'])\n",
        "shuffle_in_unison(final_prepped['set1']['dev']['x'], final_prepped['set1']['dev']['y'])\n",
        "shuffle_in_unison(final_prepped['set1']['test']['x'], final_prepped['set1']['test']['y'])\n",
        "shuffle_in_unison(final_prepped['set2']['train']['x'], final_prepped['set2']['train']['y'])\n",
        "shuffle_in_unison(final_prepped['set2']['dev']['x'], final_prepped['set2']['dev']['y'])\n",
        "shuffle_in_unison(final_prepped['set2']['test']['x'], final_prepped['set2']['test']['y'])"
      ],
      "execution_count": 0,
      "outputs": []
    },
    {
      "cell_type": "markdown",
      "metadata": {
        "id": "RmA00eApzxom",
        "colab_type": "text"
      },
      "source": [
        "# That's it!"
      ]
    }
  ]
}